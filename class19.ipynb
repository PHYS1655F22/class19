{
 "cells": [
  {
   "cell_type": "markdown",
   "metadata": {
    "id": "834t49zymVdO"
   },
   "source": [
    "## In-class exercises Class 19\n",
    "\n",
    "\n",
    "---\n",
    "Today, we will work some more with fits to a Gaussian...\n",
    "\n",
    "\n",
    "\n"
   ]
  },
  {
   "cell_type": "markdown",
   "metadata": {},
   "source": [
    "First, let's import the tools that we will need:"
   ]
  },
  {
   "cell_type": "code",
   "execution_count": 1,
   "metadata": {},
   "outputs": [],
   "source": [
    "\n",
    "import numpy as np\n",
    "import matplotlib.pyplot as plt\n",
    "from scipy.stats import norm\n",
    "import scipy\n",
    "import math\n"
   ]
  },
  {
   "cell_type": "markdown",
   "metadata": {},
   "source": [
    "## Gaussian fits with parameter errors.   \n",
    "\n",
    "Lets make some random normal Gaussian data.  "
   ]
  },
  {
   "cell_type": "code",
   "execution_count": 2,
   "metadata": {},
   "outputs": [],
   "source": [
    "data = np.random.normal(0, 1, 10000)  #Draw some random data from the normal distribution"
   ]
  },
  {
   "cell_type": "markdown",
   "metadata": {},
   "source": [
    "Let's plot it:"
   ]
  },
  {
   "cell_type": "code",
   "execution_count": 3,
   "metadata": {},
   "outputs": [
    {
     "data": {
      "text/plain": [
       "Text(0.5, 0, 'Sigma')"
      ]
     },
     "execution_count": 3,
     "metadata": {},
     "output_type": "execute_result"
    },
    {
     "data": {
      "image/png": "[encoded data removed]",
      "text/plain": [
       "<Figure size 432x288 with 1 Axes>"
      ]
     },
     "metadata": {
      "needs_background": "light"
     },
     "output_type": "display_data"
    }
   ],
   "source": [
    "bin_values, bins, myart = plt.hist(data, 100, alpha=0.5)  #Fill a histogram and draw it\n",
    "plt.ylabel(\"Count/bin\")\n",
    "plt.xlabel(\"Sigma\")"
   ]
  },
  {
   "cell_type": "markdown",
   "metadata": {},
   "source": [
    "I want to fit this.  Last time we used \"scipy.stats.norm.fit\".  "
   ]
  },
  {
   "cell_type": "code",
   "execution_count": 4,
   "metadata": {},
   "outputs": [
    {
     "name": "stdout",
     "output_type": "stream",
     "text": [
      "\n",
      "\n",
      " The best fit parameters are:  mu=0.0048  sigma=1.0095 \n",
      "\n",
      "\n"
     ]
    }
   ],
   "source": [
    "mu, sigma = scipy.stats.norm.fit(data)  #fit data to extract parameters\n",
    "\n",
    "print(f\"\\n\\n The best fit parameters are:  mu={mu:4.4f}  sigma={sigma:4.4f} \\n\\n\")\n"
   ]
  },
  {
   "cell_type": "markdown",
   "metadata": {},
   "source": [
    "That is so easy, and it works.  Unfortunatly, with that function, we can get the parameters, but we have no access to the uncertainly on the parameters. BOO!  What good is a 'measurement' of a parameter with no uncertainty?  Worthless!  So, we need to define our own.  There are many ways to do it.  Here is one with a lambda function using norm.pdf."
   ]
  },
  {
   "cell_type": "code",
   "execution_count": 5,
   "metadata": {},
   "outputs": [],
   "source": [
    "gaus_func1=lambda x, mu, sig : scipy.norm.pdf(x, loc=mu, scale=sig)"
   ]
  },
  {
   "cell_type": "raw",
   "metadata": {},
   "source": [
    "However, this tells us nothing about the normalization, only the width and mean.  I'd like to also be able to fit for the normalization, so let me define a better one..."
   ]
  },
  {
   "cell_type": "code",
   "execution_count": 6,
   "metadata": {},
   "outputs": [],
   "source": [
    "gaus_func=lambda x, mu, sig, a : a*norm.pdf(x, loc=mu, scale=sig)"
   ]
  },
  {
   "cell_type": "markdown",
   "metadata": {},
   "source": [
    "## **EXERCISE 1**:  \n",
    "<span style=\"color:red\">  It is also possible to implement the Gaussian function without using norm.pdf.  Just make a regular function that contains the Gaussian fuction.  Set the parameters to mu=0, sigma=1 and plot/draw the function.   Recall:</red>\n",
    "    \n",
    "![Image](img/Gaus.png) \n",
    "    \n",
    "    \n",
    "    \n",
    "    HINT:  See the ax.plot command below to recall how to plot a function.  "
   ]
  },
  {
   "cell_type": "code",
   "execution_count": 7,
   "metadata": {},
   "outputs": [],
   "source": [
    "# Put your code here.  \n",
    "#def my_gauss(x,mu,sigma,A)\n",
    "    #Put your function code here\n",
    "    #\n",
    "    #return result"
   ]
  },
  {
   "cell_type": "markdown",
   "metadata": {},
   "source": [
    "Our lambda function takes 4 inputs.  We can treat x as a variable and the other 3 as parameters to fit for."
   ]
  },
  {
   "cell_type": "code",
   "execution_count": 8,
   "metadata": {},
   "outputs": [
    {
     "name": "stdout",
     "output_type": "stream",
     "text": [
      "\n",
      "\n",
      " The best fit parameters are: mu=0.01  sigma= 1.0 a=829.85\n",
      "\n",
      "\n"
     ]
    }
   ],
   "source": [
    "\n",
    "\n",
    "\n",
    "#We want to use the bin centers for the x values\n",
    "#Need to ignore the underflow and overlow bins\n",
    "centers = (0.5*(bins[1:]+bins[:-1]))\n",
    "\n",
    "\n",
    "#print(len(centers),len(bin_values))  #Just for trouble shooting\n",
    "\n",
    "#For our initial parameters, let's guess:\n",
    "#mean=0\n",
    "#sigma=1\n",
    "#A=300\n",
    "pars, cov = scipy.optimize.curve_fit(gaus_func, centers, bin_values, p0=[0,1,300])\n",
    "\n",
    "\n",
    "\n",
    "\n",
    "print(f\"\\n\\n The best fit parameters are: mu={pars[0]:4.2f}  sigma={pars[1]:4.2} a={pars[2]:4.2f}\\n\\n\")"
   ]
  },
  {
   "cell_type": "markdown",
   "metadata": {},
   "source": [
    "## **EXERCISE 2**:  \n",
    "<span style=\"color:red\">  Make the fit with your Gaussian function that you defined in example 1 above.  Do the fit values agree with mine?   </red>\n",
    "    \n",
    "    "
   ]
  },
  {
   "cell_type": "code",
   "execution_count": 9,
   "metadata": {},
   "outputs": [],
   "source": [
    "#Put your code here"
   ]
  },
  {
   "cell_type": "markdown",
   "metadata": {},
   "source": [
    "Our fit worked above, and our fit values seem reasonable!  Let's plot it, and see how it looks...  "
   ]
  },
  {
   "cell_type": "code",
   "execution_count": 10,
   "metadata": {},
   "outputs": [
    {
     "data": {
      "image/png": "[encoded data removed]",
      "text/plain": [
       "<Figure size 432x288 with 1 Axes>"
      ]
     },
     "metadata": {
      "needs_background": "light"
     },
     "output_type": "display_data"
    }
   ],
   "source": [
    "#Use subplots so we have access to fig and ax\n",
    "fig, ax = plt.subplots()\n",
    "\n",
    "#Draw our Gaussian data\n",
    "ax.hist(data, 100, alpha=0.5) \n",
    "\n",
    "#Draw our Gaussian best-fit function\n",
    "ax.plot(centers, gaus_func(centers,*pars), 'k--',linewidth = 2, label='fit before') \n",
    "\n",
    "#Set the title with parameter data\n",
    "ax.set_title(f'$\\mu={pars[0]:.4f}\\pm{np.sqrt(cov[0,0]):.4f}$, $\\sigma={pars[1]:.4f}\\pm{np.sqrt(cov[1,1]):.4f},a={pars[2]:.4f}\\pm{np.sqrt(cov[2,2]):.4f}$')\n",
    "plt.ylabel(\"Count/bin\")\n",
    "plt.xlabel(\"Sigma\")            \n",
    "plt.show()\n"
   ]
  },
  {
   "cell_type": "markdown",
   "metadata": {},
   "source": [
    "That looks like a reasonable fit. One way to visualize the quality of your fit is to plot the residuals.  That is, we want to look at (data-fit)/sigma for each point used in the fit.  So, we are just looking at how far off the model is for each data point in units of sigma.  Let's do it...\n",
    "\n"
   ]
  },
  {
   "cell_type": "code",
   "execution_count": 11,
   "metadata": {},
   "outputs": [
    {
     "name": "stdout",
     "output_type": "stream",
     "text": [
      "100\n",
      "100 98\n"
     ]
    },
    {
     "data": {
      "text/plain": [
       "(-3.0, 3.0)"
      ]
     },
     "execution_count": 11,
     "metadata": {},
     "output_type": "execute_result"
    },
    {
     "data": {
      "image/png": "[encoded data removed]",
      "text/plain": [
       "<Figure size 432x288 with 1 Axes>"
      ]
     },
     "metadata": {
      "needs_background": "light"
     },
     "output_type": "display_data"
    }
   ],
   "source": [
    "f_res=[]\n",
    "\n",
    "print(len(bin_values))\n",
    "\n",
    "for i in range(len(bin_values[1:-1])):\n",
    "    res=0\n",
    "    if (bin_values[i]>=1):  #Avoid divide by zero...\n",
    "        res = (bin_values[i]-gaus_func(centers[i],*pars))/math.sqrt(bin_values[i])\n",
    "\n",
    "    f_res.append(res)\n",
    "    #print(res,\"\\n\")  #for troubleshooting\n",
    "\n",
    "print(len(centers),len(f_res))  #for troubleshooting\n",
    "#x_res = np.linspace(-5, 5, num=98)\n",
    "\n",
    "#I really should add error bars!!!!\n",
    "plt.scatter(centers[1:-1], f_res, label='Data',color='blue')\n",
    "plt.xlim(xmax = 2, xmin = -2) #Gaussian approximation is valid...  \n",
    "plt.ylim(ymax = 3, ymin = -3)"
   ]
  },
  {
   "cell_type": "markdown",
   "metadata": {},
   "source": [
    "Doesn't look perfect, let's look at the pull distribution.  "
   ]
  },
  {
   "cell_type": "code",
   "execution_count": 12,
   "metadata": {},
   "outputs": [
    {
     "data": {
      "image/png": "[encoded data removed]",
      "text/plain": [
       "<Figure size 432x288 with 1 Axes>"
      ]
     },
     "metadata": {
      "needs_background": "light"
     },
     "output_type": "display_data"
    }
   ],
   "source": [
    "bin_values, bins, myart = plt.hist(f_res, 10, alpha=0.5)\n"
   ]
  },
  {
   "cell_type": "markdown",
   "metadata": {},
   "source": [
    "That looks kind of like a normal Gaussian. Let's fit it with our fancy Gaussian function, and check the parameters:"
   ]
  },
  {
   "cell_type": "code",
   "execution_count": 13,
   "metadata": {},
   "outputs": [
    {
     "name": "stdout",
     "output_type": "stream",
     "text": [
      "\n",
      "\n",
      " The best fit parameters are: mu=0.0020 +-0.0397  sigma=0.6697+-0.0399 a=62.01\n",
      "\n",
      "\n"
     ]
    }
   ],
   "source": [
    "mu, sigma = scipy.stats.norm.fit(f_res)  #fit data to extract parameters\n",
    "\n",
    "#Need to ignore the underflow and overlow bins\n",
    "centers = (0.5*(bins[1:]+bins[:-1]))\n",
    "pars, cov = scipy.optimize.curve_fit(gaus_func, centers, bin_values, p0=[0,1,20])\n",
    "print(f\"\\n\\n The best fit parameters are: mu={pars[0]:4.4f} +-{np.sqrt(cov[0,0]):.4f}  sigma={pars[1]:4.4}+-{np.sqrt(cov[1,1]):.4f} a={pars[2]:4.2f}\\n\\n\")"
   ]
  },
  {
   "cell_type": "markdown",
   "metadata": {},
   "source": [
    "Awesome!  This is perfectly consistent with a Gaussian of mean=0 and sigma=1.\n",
    "\n",
    "For completeness, I'll draw the fit."
   ]
  },
  {
   "cell_type": "code",
   "execution_count": 14,
   "metadata": {},
   "outputs": [
    {
     "data": {
      "image/png": "[encoded data removed]",
      "text/plain": [
       "<Figure size 432x288 with 1 Axes>"
      ]
     },
     "metadata": {
      "needs_background": "light"
     },
     "output_type": "display_data"
    }
   ],
   "source": [
    "#Use subplots so we have access to fig and ax\n",
    "fig, ax = plt.subplots()\n",
    "\n",
    "#Draw our Pull Distribution\n",
    "plt.hist(f_res, 10, alpha=0.5)\n",
    "\n",
    "#Draw our Gaussian best-fit function\n",
    "ax.plot(centers, gaus_func(centers,*pars), 'k--',linewidth = 2, label='fit before') \n",
    "\n",
    "#Set the title with parameter data\n",
    "ax.set_title(f'$\\mu={pars[0]:.4f}\\pm{np.sqrt(cov[0,0]):.4f}$, $\\sigma={pars[1]:.4f}\\pm{np.sqrt(cov[1,1]):.4f},a={pars[2]:.4f}\\pm{np.sqrt(cov[2,2]):.4f}$')\n",
    "plt.xlabel(\"Residuals (sigma)\")\n",
    "plt.ylabel(\"Count/bin\")     \n",
    "    \n",
    "plt.show()"
   ]
  },
  {
   "cell_type": "markdown",
   "metadata": {},
   "source": [
    "Again, this pull distribution looks great (considering the limited statistics we have)!  "
   ]
  },
  {
   "cell_type": "markdown",
   "metadata": {},
   "source": [
    "## **EXERCISE 3**:  \n",
    "<span style=\"color:red\">  Explain in your own words how to make the residual plot?  Why is it more useful than the the Chi^2 value?  Explain what the pull distrubution is in your own words.  </red>\n",
    "    \n",
    "    "
   ]
  },
  {
   "cell_type": "markdown",
   "metadata": {},
   "source": [
    "If you finish early look at the HW due this week, and see if you have questions.  "
   ]
  },
  {
   "cell_type": "code",
   "execution_count": null,
   "metadata": {},
   "outputs": [],
   "source": []
  }
 ],
 "metadata": {
  "kernelspec": {
   "display_name": "Python 3 (ipykernel)",
   "language": "python",
   "name": "python3"
  },
  "language_info": {
   "codemirror_mode": {
    "name": "ipython",
    "version": 3
   },
   "file_extension": ".py",
   "mimetype": "text/x-python",
   "name": "python",
   "nbconvert_exporter": "python",
   "pygments_lexer": "ipython3",
   "version": "3.8.8"
  }
 },
 "nbformat": 4,
 "nbformat_minor": 4
}
